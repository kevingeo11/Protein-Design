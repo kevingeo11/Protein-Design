{
 "cells": [
  {
   "cell_type": "markdown",
   "metadata": {},
   "source": [
    "### Here we evaluvate the generated sequences and Save metrics to Meta file"
   ]
  },
  {
   "cell_type": "code",
   "execution_count": 1,
   "metadata": {},
   "outputs": [],
   "source": [
    "import sys\n",
    "sys.path.append('..')"
   ]
  },
  {
   "cell_type": "code",
   "execution_count": 2,
   "metadata": {},
   "outputs": [],
   "source": [
    "import os\n",
    "import pandas as pd\n",
    "import numpy as np\n",
    "import matplotlib.pyplot as plt\n",
    "from tqdm import tqdm\n",
    "import Bio.PDB"
   ]
  },
  {
   "cell_type": "code",
   "execution_count": 5,
   "metadata": {},
   "outputs": [],
   "source": [
    "from utils import helper\n",
    "from utils.hmmtools import HmmerTools\n",
    "from utils.tmalign import TMalign"
   ]
  },
  {
   "cell_type": "code",
   "execution_count": 4,
   "metadata": {},
   "outputs": [],
   "source": [
    "root = '../..'\n",
    "data_path = os.path.join(root, 'Data')\n",
    "hmm_path = os.path.join('../hmm')"
   ]
  },
  {
   "cell_type": "code",
   "execution_count": null,
   "metadata": {},
   "outputs": [],
   "source": []
  },
  {
   "cell_type": "markdown",
   "metadata": {},
   "source": [
    "#### Calculating Seq Identity\n",
    "\n",
    "Sequence identity is calculated against the best protein (highest activity) in the given set"
   ]
  },
  {
   "cell_type": "code",
   "execution_count": 6,
   "metadata": {},
   "outputs": [],
   "source": [
    "ref_record = helper.read_fasta(os.path.join(data_path, 'sequences_425.fasta'))[0]\n",
    "gen_records = helper.read_fasta(os.path.join(data_path, 'esm3_gen.fasta'))"
   ]
  },
  {
   "cell_type": "code",
   "execution_count": 7,
   "metadata": {},
   "outputs": [
    {
     "name": "stderr",
     "output_type": "stream",
     "text": [
      "100%|██████████| 200/200 [00:03<00:00, 64.64it/s]\n"
     ]
    }
   ],
   "source": [
    "seq_ids = {}\n",
    "for rec in tqdm(gen_records):\n",
    "    seq_ids[rec.id] = helper.calculate_seq_identity(ref_record, rec)"
   ]
  },
  {
   "cell_type": "code",
   "execution_count": 8,
   "metadata": {},
   "outputs": [
    {
     "data": {
      "image/png": "[encoded data removed]",
      "text/plain": [
       "<Figure size 640x480 with 1 Axes>"
      ]
     },
     "metadata": {},
     "output_type": "display_data"
    }
   ],
   "source": [
    "_ = plt.hist(seq_ids.values())\n",
    "_ = plt.xlabel('Seq identity')"
   ]
  },
  {
   "cell_type": "code",
   "execution_count": 9,
   "metadata": {},
   "outputs": [],
   "source": [
    "# ## save to metadata\n",
    "# meta_file = os.path.join(data_path, 'esm3_gen.metadata.json')\n",
    "# for key in seq_ids:\n",
    "#     helper.update_metadata_json(meta_file, key, 'seq_id', seq_ids[key])"
   ]
  },
  {
   "cell_type": "code",
   "execution_count": null,
   "metadata": {},
   "outputs": [],
   "source": []
  },
  {
   "cell_type": "markdown",
   "metadata": {},
   "source": [
    "#### Using HMM search to find domains in the generations\n",
    "\n",
    "HMMs were retrived from PFAM \\\n",
    "This is to see if the necessary domains for amylase are present or not"
   ]
  },
  {
   "cell_type": "code",
   "execution_count": 11,
   "metadata": {},
   "outputs": [],
   "source": [
    "a_amylase_catalytic_hmm = os.path.join(hmm_path, 'PF00128.hmm')\n",
    "a_amylase_all_beta_hmm = os.path.join(hmm_path, 'PF02806.hmm')"
   ]
  },
  {
   "cell_type": "code",
   "execution_count": 29,
   "metadata": {},
   "outputs": [],
   "source": [
    "meta_file = os.path.join(data_path, 'esm3_gen.metadata.json')"
   ]
  },
  {
   "cell_type": "code",
   "execution_count": 38,
   "metadata": {},
   "outputs": [],
   "source": [
    "hmms = [a_amylase_catalytic_hmm, a_amylase_all_beta_hmm]\n",
    "hmmer = HmmerTools()\n",
    "E_values = []\n",
    "for key, hmm in zip(['a_amylase_catalytic_hmm', 'a_amylase_all_beta_hmm'], hmms):\n",
    "    df = hmmer.hmmsearch(hmm_path=hmm, fasta_file=os.path.join(data_path, 'esm3_gen.fasta'))\n",
    "    E_values.append(-np.log(df['Evalue']))\n",
    "\n",
    "    ## save to meta file\n",
    "    # for rec in gen_records:\n",
    "    #     if rec.id in df['name'].to_list():\n",
    "    #         helper.update_metadata_json(meta_file, rec.id, key, True)\n",
    "    #     else:\n",
    "    #         helper.update_metadata_json(meta_file, rec.id, key, False)"
   ]
  },
  {
   "cell_type": "code",
   "execution_count": 39,
   "metadata": {},
   "outputs": [
    {
     "data": {
      "image/png": "[encoded data removed]",
      "text/plain": [
       "<Figure size 640x480 with 1 Axes>"
      ]
     },
     "metadata": {},
     "output_type": "display_data"
    }
   ],
   "source": [
    "fig, ax = plt.subplots(1,1)\n",
    "vp = ax.boxplot(E_values, showmeans=True)\n",
    "_ = ax.set_ylabel('-log(E-value) (hmm search)')\n",
    "_ = ax.set_xticks(ticks=range(1, len(E_values) + 1), \n",
    "              labels=['catalytic domain', 'C-terminal all-beta domain'])"
   ]
  },
  {
   "cell_type": "code",
   "execution_count": null,
   "metadata": {},
   "outputs": [],
   "source": []
  },
  {
   "cell_type": "markdown",
   "metadata": {},
   "source": [
    "#### Compute TM score to the alpha amylase structure"
   ]
  },
  {
   "cell_type": "code",
   "execution_count": 45,
   "metadata": {},
   "outputs": [
    {
     "name": "stderr",
     "output_type": "stream",
     "text": [
      "100%|██████████| 200/200 [00:42<00:00,  4.70it/s]\n"
     ]
    }
   ],
   "source": [
    "tm_path = '../utils/TMalign'\n",
    "ref_structure = os.path.join(data_path, '1bag.protein.pdb')\n",
    "meta_file = os.path.join(data_path, 'esm3_gen.metadata.json')\n",
    "\n",
    "tmalign = TMalign(tm_path)\n",
    "fasta_path = os.path.join(data_path, 'esm3_gen.fasta')\n",
    "pdbs_path = os.path.join(data_path, 'esm3_pdbs')\n",
    "tm_scores = []\n",
    "for f in tqdm(os.listdir(pdbs_path)):\n",
    "    if f.endswith('.pdb'):\n",
    "        protein_id = f.replace('.pdb', '')\n",
    "        file = os.path.join(pdbs_path, f)\n",
    "        res = tmalign.run(ref_structure, file)\n",
    "\n",
    "        tm_score = res['tm_score']\n",
    "        tm_scores.append(tm_score)\n",
    "\n",
    "        ## save to meta  file\n",
    "        # helper.update_metadata_json(meta_file, protein_id, 'TM_score', tm_score, force=False)"
   ]
  },
  {
   "cell_type": "code",
   "execution_count": 46,
   "metadata": {},
   "outputs": [
    {
     "data": {
      "image/png": "[encoded data removed]",
      "text/plain": [
       "<Figure size 640x480 with 1 Axes>"
      ]
     },
     "metadata": {},
     "output_type": "display_data"
    }
   ],
   "source": [
    "_ = plt.hist(tm_scores)\n",
    "_ = plt.xlabel('TM score')"
   ]
  },
  {
   "cell_type": "code",
   "execution_count": null,
   "metadata": {},
   "outputs": [],
   "source": []
  },
  {
   "cell_type": "markdown",
   "metadata": {},
   "source": [
    "#### Computing PLDDT"
   ]
  },
  {
   "cell_type": "code",
   "execution_count": 52,
   "metadata": {},
   "outputs": [],
   "source": [
    "def get_plddt(file):\n",
    "    pdbparser = Bio.PDB.PDBParser(QUIET=True)\n",
    "    struct = pdbparser.get_structure('protein', file)\n",
    "    plddts = np.array([a.get_bfactor() for a in struct.get_atoms()])\n",
    "    plddt = plddts.mean()\n",
    "\n",
    "    return plddt"
   ]
  },
  {
   "cell_type": "code",
   "execution_count": 55,
   "metadata": {},
   "outputs": [
    {
     "name": "stderr",
     "output_type": "stream",
     "text": [
      "100%|██████████| 200/200 [00:06<00:00, 30.97it/s]\n"
     ]
    }
   ],
   "source": [
    "meta_file = os.path.join(data_path, 'esm3_gen.metadata.json')\n",
    "fasta_path = os.path.join(data_path, 'esm3_gen.fasta')\n",
    "\n",
    "plddts = []\n",
    "pdbs_path = os.path.join(data_path, 'esm3_pdbs')\n",
    "for f in tqdm(os.listdir(pdbs_path)):\n",
    "    if f.endswith('.pdb'):\n",
    "        protein_id = f.replace('.pdb', '')\n",
    "        file = os.path.join(pdbs_path, f)\n",
    "\n",
    "        plddt = get_plddt(file)\n",
    "        plddts.append(plddt)\n",
    "\n",
    "        ## save to meta  file\n",
    "        # helper.update_metadata_json(meta_file, protein_id, 'plddt', plddt, force=False)"
   ]
  },
  {
   "cell_type": "code",
   "execution_count": 56,
   "metadata": {},
   "outputs": [
    {
     "data": {
      "image/png": "[encoded data removed]",
      "text/plain": [
       "<Figure size 640x480 with 1 Axes>"
      ]
     },
     "metadata": {},
     "output_type": "display_data"
    }
   ],
   "source": [
    "_ = plt.hist(tm_scores)\n",
    "_ = plt.xlabel('plddt')"
   ]
  },
  {
   "cell_type": "code",
   "execution_count": null,
   "metadata": {},
   "outputs": [],
   "source": []
  }
 ],
 "metadata": {
  "kernelspec": {
   "display_name": "workspace-esm",
   "language": "python",
   "name": "python3"
  },
  "language_info": {
   "codemirror_mode": {
    "name": "ipython",
    "version": 3
   },
   "file_extension": ".py",
   "mimetype": "text/x-python",
   "name": "python",
   "nbconvert_exporter": "python",
   "pygments_lexer": "ipython3",
   "version": "3.10.13"
  }
 },
 "nbformat": 4,
 "nbformat_minor": 2
}
