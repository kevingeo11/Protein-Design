{
 "cells": [
  {
   "cell_type": "code",
   "execution_count": 1,
   "metadata": {},
   "outputs": [],
   "source": [
    "import sys\n",
    "sys.path.append('..')"
   ]
  },
  {
   "cell_type": "code",
   "execution_count": 2,
   "metadata": {},
   "outputs": [],
   "source": [
    "import os\n",
    "import pandas as pd\n",
    "import numpy as np\n",
    "import matplotlib.pyplot as plt\n",
    "from tqdm import tqdm\n",
    "import json\n",
    "\n",
    "import torch\n",
    "import esm\n"
   ]
  },
  {
   "cell_type": "code",
   "execution_count": 3,
   "metadata": {},
   "outputs": [
    {
     "name": "stderr",
     "output_type": "stream",
     "text": [
      "/nethome/kgeorge/miniconda3/envs/workspace-esm/lib/python3.10/site-packages/Bio/pairwise2.py:278: BiopythonDeprecationWarning: Bio.pairwise2 has been deprecated, and we intend to remove it in a future release of Biopython. As an alternative, please consider using Bio.Align.PairwiseAligner as a replacement, and contact the Biopython developers if you still need the Bio.pairwise2 module.\n",
      "  warnings.warn(\n"
     ]
    }
   ],
   "source": [
    "from utils import helper"
   ]
  },
  {
   "cell_type": "code",
   "execution_count": null,
   "metadata": {},
   "outputs": [],
   "source": []
  },
  {
   "cell_type": "code",
   "execution_count": 5,
   "metadata": {},
   "outputs": [],
   "source": [
    "class ESM2():\n",
    "    def __init__(self, model_path, device='cpu') -> None:\n",
    "        self.model, self.alphabet = esm.pretrained.load_model_and_alphabet(model_path)\n",
    "        self.batch_converter = self.alphabet.get_batch_converter()\n",
    "        self.model.eval()\n",
    "        self.device = device\n",
    "\n",
    "        if self.device == 'gpu':\n",
    "            self.model.cuda()\n",
    "\n",
    "        self.tok_to_idx = self.alphabet.tok_to_idx\n",
    "        self.idx_to_tok = {v:k for k,v in self.tok_to_idx.items()}\n",
    "\n",
    "    def get_res(self, sequence):\n",
    "        data = [\n",
    "            (\"protein1\", sequence)\n",
    "        ]\n",
    "        batch_labels, batch_strs, batch_tokens = self.batch_converter(data)\n",
    "        batch_lens = (batch_tokens != self.alphabet.padding_idx).sum(1)\n",
    "\n",
    "        if self.device == 'gpu':\n",
    "            batch_tokens = batch_tokens.cuda()\n",
    "\n",
    "        with torch.no_grad():\n",
    "            results = self.model(batch_tokens, repr_layers=[33], return_contacts=True)\n",
    "\n",
    "        return results\n",
    "\n",
    "    def get_logits(self, sequence):\n",
    "\n",
    "        results = self.get_res(sequence)\n",
    "        return results['logits']\n",
    "\n",
    "    def get_prob(self, sequence):\n",
    "        logits = self.get_logits(sequence)\n",
    "        prob = torch.nn.functional.softmax(logits, dim=-1)[0, 1:-1, :] # 1st and last are start and end tokens\n",
    "\n",
    "        return prob.cpu().numpy()"
   ]
  },
  {
   "cell_type": "code",
   "execution_count": 6,
   "metadata": {},
   "outputs": [],
   "source": [
    "esm2 = ESM2(model_path='/data/users/kgeorge/workspace/esm2/checkpoints/esm2_t33_650M_UR50D.pt')"
   ]
  },
  {
   "cell_type": "code",
   "execution_count": 7,
   "metadata": {},
   "outputs": [],
   "source": [
    "def get_embeddings_seq(sequences):\n",
    "    embeddings = []\n",
    "    for seq in tqdm(sequences):\n",
    "        rep = esm2.get_res(sequence=seq)\n",
    "        embeddings.append(rep['representations'][33].mean(1).numpy())\n",
    "\n",
    "    embeddings = np.concatenate(embeddings, axis=0)\n",
    "\n",
    "    return embeddings"
   ]
  },
  {
   "cell_type": "code",
   "execution_count": null,
   "metadata": {},
   "outputs": [],
   "source": []
  },
  {
   "cell_type": "code",
   "execution_count": 8,
   "metadata": {},
   "outputs": [],
   "source": [
    "root = '../..'\n",
    "data_path = os.path.join(root, 'Data')"
   ]
  },
  {
   "cell_type": "code",
   "execution_count": 9,
   "metadata": {},
   "outputs": [],
   "source": [
    "fasta_file = os.path.join(data_path, 'sequences_425.fasta')\n",
    "meta_file = os.path.join(data_path, 'sequences_425.metadata.json')"
   ]
  },
  {
   "cell_type": "code",
   "execution_count": 10,
   "metadata": {},
   "outputs": [],
   "source": [
    "records = helper.read_fasta(fasta_file)\n",
    "seq_425_sequences = {}\n",
    "for rec in records:\n",
    "    seq_425_sequences[rec.id] = str(rec.seq)\n",
    "    \n",
    "with open(meta_file) as f:\n",
    "    seq_425_meta = json.load(f)\n",
    "seq_425_meta = pd.DataFrame(seq_425_meta).T"
   ]
  },
  {
   "cell_type": "code",
   "execution_count": 11,
   "metadata": {},
   "outputs": [],
   "source": [
    "df = pd.concat([pd.DataFrame.from_dict(seq_425_sequences, orient='index', columns=['sequence']), seq_425_meta], axis=1)"
   ]
  },
  {
   "cell_type": "code",
   "execution_count": 12,
   "metadata": {},
   "outputs": [
    {
     "name": "stderr",
     "output_type": "stream",
     "text": [
      "100%|██████████| 128/128 [04:03<00:00,  1.91s/it]\n"
     ]
    }
   ],
   "source": [
    "embeddings = get_embeddings_seq(df['sequence'])"
   ]
  },
  {
   "cell_type": "code",
   "execution_count": 13,
   "metadata": {},
   "outputs": [],
   "source": [
    "df['embeddings'] = list(embeddings)"
   ]
  },
  {
   "cell_type": "code",
   "execution_count": 14,
   "metadata": {},
   "outputs": [
    {
     "data": {
      "text/html": [
       "<div>\n",
       "<style scoped>\n",
       "    .dataframe tbody tr th:only-of-type {\n",
       "        vertical-align: middle;\n",
       "    }\n",
       "\n",
       "    .dataframe tbody tr th {\n",
       "        vertical-align: top;\n",
       "    }\n",
       "\n",
       "    .dataframe thead th {\n",
       "        text-align: right;\n",
       "    }\n",
       "</style>\n",
       "<table border=\"1\" class=\"dataframe\">\n",
       "  <thead>\n",
       "    <tr style=\"text-align: right;\">\n",
       "      <th></th>\n",
       "      <th>sequence</th>\n",
       "      <th>esm2_650M_perplexity</th>\n",
       "      <th>activity</th>\n",
       "      <th>embeddings</th>\n",
       "    </tr>\n",
       "  </thead>\n",
       "  <tbody>\n",
       "    <tr>\n",
       "      <th>seq_0_L_425</th>\n",
       "      <td>ATAPSIKSGTILHAWNWSFNTLKHNMKDIHDAGYTAIQTSPIMQVK...</td>\n",
       "      <td>3.489924</td>\n",
       "      <td>10.552655</td>\n",
       "      <td>[-0.02621314, -0.08718042, -0.08317378, 0.1298...</td>\n",
       "    </tr>\n",
       "    <tr>\n",
       "      <th>seq_1_L_425</th>\n",
       "      <td>ATAPSIKSGTILHAWNWSFNTLKHNMKDIHDAGYTAIQTSPIMQVK...</td>\n",
       "      <td>3.568502</td>\n",
       "      <td>9.338325</td>\n",
       "      <td>[-0.027964618, -0.086735666, -0.08568832, 0.12...</td>\n",
       "    </tr>\n",
       "    <tr>\n",
       "      <th>seq_2_L_425</th>\n",
       "      <td>ATAPSIKSGTILHAWNWSFNTLKHNMKDIHDAGYTAIQTSPIMQVK...</td>\n",
       "      <td>3.499378</td>\n",
       "      <td>8.289414</td>\n",
       "      <td>[-0.02771596, -0.088174716, -0.08482945, 0.130...</td>\n",
       "    </tr>\n",
       "    <tr>\n",
       "      <th>seq_3_L_425</th>\n",
       "      <td>ATAPSIKSGTILHAWNWSFNTLKHNMKDIHDAGYTAIQTSPIMQVK...</td>\n",
       "      <td>3.596867</td>\n",
       "      <td>7.007689</td>\n",
       "      <td>[-0.022297397, -0.09509543, -0.083283156, 0.12...</td>\n",
       "    </tr>\n",
       "    <tr>\n",
       "      <th>seq_4_L_425</th>\n",
       "      <td>ATAPSIKSGTILHAWNWSFNTLKHNMKDIHDAGYTAIQTSPIMQVK...</td>\n",
       "      <td>3.550846</td>\n",
       "      <td>6.898567</td>\n",
       "      <td>[-0.028365752, -0.087006845, -0.085807584, 0.1...</td>\n",
       "    </tr>\n",
       "  </tbody>\n",
       "</table>\n",
       "</div>"
      ],
      "text/plain": [
       "                                                      sequence  \\\n",
       "seq_0_L_425  ATAPSIKSGTILHAWNWSFNTLKHNMKDIHDAGYTAIQTSPIMQVK...   \n",
       "seq_1_L_425  ATAPSIKSGTILHAWNWSFNTLKHNMKDIHDAGYTAIQTSPIMQVK...   \n",
       "seq_2_L_425  ATAPSIKSGTILHAWNWSFNTLKHNMKDIHDAGYTAIQTSPIMQVK...   \n",
       "seq_3_L_425  ATAPSIKSGTILHAWNWSFNTLKHNMKDIHDAGYTAIQTSPIMQVK...   \n",
       "seq_4_L_425  ATAPSIKSGTILHAWNWSFNTLKHNMKDIHDAGYTAIQTSPIMQVK...   \n",
       "\n",
       "             esm2_650M_perplexity   activity  \\\n",
       "seq_0_L_425              3.489924  10.552655   \n",
       "seq_1_L_425              3.568502   9.338325   \n",
       "seq_2_L_425              3.499378   8.289414   \n",
       "seq_3_L_425              3.596867   7.007689   \n",
       "seq_4_L_425              3.550846   6.898567   \n",
       "\n",
       "                                                    embeddings  \n",
       "seq_0_L_425  [-0.02621314, -0.08718042, -0.08317378, 0.1298...  \n",
       "seq_1_L_425  [-0.027964618, -0.086735666, -0.08568832, 0.12...  \n",
       "seq_2_L_425  [-0.02771596, -0.088174716, -0.08482945, 0.130...  \n",
       "seq_3_L_425  [-0.022297397, -0.09509543, -0.083283156, 0.12...  \n",
       "seq_4_L_425  [-0.028365752, -0.087006845, -0.085807584, 0.1...  "
      ]
     },
     "execution_count": 14,
     "metadata": {},
     "output_type": "execute_result"
    }
   ],
   "source": [
    "df.head()"
   ]
  },
  {
   "cell_type": "code",
   "execution_count": 15,
   "metadata": {},
   "outputs": [
    {
     "data": {
      "text/plain": [
       "(128, 1280)"
      ]
     },
     "execution_count": 15,
     "metadata": {},
     "output_type": "execute_result"
    }
   ],
   "source": [
    "embeddings.shape"
   ]
  },
  {
   "cell_type": "code",
   "execution_count": 80,
   "metadata": {},
   "outputs": [
    {
     "data": {
      "image/png": "[encoded data removed]",
      "text/plain": [
       "<Figure size 400x300 with 1 Axes>"
      ]
     },
     "metadata": {},
     "output_type": "display_data"
    }
   ],
   "source": [
    "plt.figure(figsize=(4,3))\n",
    "_ = plt.hist(df['activity'])\n",
    "_ = plt.xlabel('activity')\n",
    "plt.show()"
   ]
  },
  {
   "cell_type": "code",
   "execution_count": null,
   "metadata": {},
   "outputs": [],
   "source": []
  },
  {
   "cell_type": "code",
   "execution_count": 203,
   "metadata": {},
   "outputs": [],
   "source": [
    "from sklearn.linear_model import Ridge\n",
    "from sklearn.ensemble import RandomForestRegressor\n",
    "from sklearn.metrics import mean_squared_error\n",
    "\n",
    "from sklearn.model_selection import RandomizedSearchCV\n",
    "from sklearn.model_selection import StratifiedKFold\n",
    "from sklearn.preprocessing import KBinsDiscretizer\n",
    "\n",
    "from scipy.stats import uniform\n",
    "from scipy.stats import spearmanr"
   ]
  },
  {
   "cell_type": "code",
   "execution_count": 18,
   "metadata": {},
   "outputs": [],
   "source": [
    "binner = KBinsDiscretizer(n_bins=5, encode='ordinal', strategy='uniform')\n",
    "skf = StratifiedKFold(n_splits=5, shuffle=True, random_state=0)"
   ]
  },
  {
   "cell_type": "code",
   "execution_count": 26,
   "metadata": {},
   "outputs": [],
   "source": [
    "y = df['activity'].to_numpy().reshape(-1,1)\n",
    "X = embeddings.copy()\n",
    "y_binned = binner.fit_transform(y)"
   ]
  },
  {
   "cell_type": "code",
   "execution_count": 118,
   "metadata": {},
   "outputs": [
    {
     "name": "stderr",
     "output_type": "stream",
     "text": [
      "/nethome/kgeorge/miniconda3/envs/workspace-esm/lib/python3.10/site-packages/sklearn/model_selection/_split.py:737: UserWarning: The least populated class in y has only 2 members, which is less than n_splits=5.\n",
      "  warnings.warn(\n"
     ]
    },
    {
     "data": {
      "image/png": "[encoded data removed]",
      "text/plain": [
       "<Figure size 400x300 with 1 Axes>"
      ]
     },
     "metadata": {},
     "output_type": "display_data"
    }
   ],
   "source": [
    "for train_index, test_index in skf.split(X, y_binned):\n",
    "    break\n",
    "\n",
    "X_train = X[train_index]\n",
    "y_train = y[train_index]\n",
    "y_binned_train = y_binned[train_index]\n",
    "\n",
    "X_test = X[test_index]\n",
    "y_test = y[test_index]\n",
    "y_binned_test = y_binned[test_index]\n",
    "\n",
    "fig, ax = plt.subplots(1, 1, figsize=(4,3))\n",
    "ax.hist(y_train, label='train')\n",
    "ax.hist(y_test, label='test')\n",
    "ax.legend()\n",
    "ax.set_xlabel('activity')\n",
    "plt.show()"
   ]
  },
  {
   "cell_type": "code",
   "execution_count": 119,
   "metadata": {},
   "outputs": [
    {
     "name": "stdout",
     "output_type": "stream",
     "text": [
      "train set size: 102\n",
      "test set size: 26\n"
     ]
    }
   ],
   "source": [
    "print(f'train set size: {train_index.shape[0]}')\n",
    "print(f'test set size: {test_index.shape[0]}')"
   ]
  },
  {
   "cell_type": "code",
   "execution_count": 120,
   "metadata": {},
   "outputs": [
    {
     "name": "stderr",
     "output_type": "stream",
     "text": [
      "/nethome/kgeorge/miniconda3/envs/workspace-esm/lib/python3.10/site-packages/sklearn/model_selection/_split.py:737: UserWarning: The least populated class in y has only 1 members, which is less than n_splits=5.\n",
      "  warnings.warn(\n"
     ]
    },
    {
     "data": {
      "image/png": "[encoded data removed]",
      "text/plain": [
       "<Figure size 2000x300 with 5 Axes>"
      ]
     },
     "metadata": {},
     "output_type": "display_data"
    }
   ],
   "source": [
    "fig, ax = plt.subplots(1, 5, figsize=(20,3))\n",
    "for i, (train_index, val_index) in enumerate(skf.split(X_train, y_binned_train)):\n",
    "    ax[i].set_title(f'split {i}')\n",
    "    ax[i].hist(y_train[train_index], label='train')\n",
    "    ax[i].hist(y_train[val_index], label='val')\n",
    "    ax[i].legend()\n",
    "    ax[i].set_xlabel('activity')\n",
    "plt.show()"
   ]
  },
  {
   "cell_type": "markdown",
   "metadata": {},
   "source": [
    "#### Ridge"
   ]
  },
  {
   "cell_type": "code",
   "execution_count": 121,
   "metadata": {},
   "outputs": [],
   "source": [
    "param_space = {\n",
    "    'alpha': uniform(loc=0, scale=10),\n",
    "}\n",
    "ridge = Ridge(random_state=0)\n",
    "clf = RandomizedSearchCV(ridge, param_space, n_iter=100, cv=skf.split(X_train, y_binned_train), scoring='r2', random_state=0)"
   ]
  },
  {
   "cell_type": "code",
   "execution_count": 122,
   "metadata": {},
   "outputs": [
    {
     "name": "stderr",
     "output_type": "stream",
     "text": [
      "/nethome/kgeorge/miniconda3/envs/workspace-esm/lib/python3.10/site-packages/sklearn/model_selection/_split.py:737: UserWarning: The least populated class in y has only 1 members, which is less than n_splits=5.\n",
      "  warnings.warn(\n"
     ]
    }
   ],
   "source": [
    "search = clf.fit(X_train, y_train)"
   ]
  },
  {
   "cell_type": "code",
   "execution_count": 123,
   "metadata": {},
   "outputs": [
    {
     "data": {
      "image/png": "[encoded data removed]",
      "text/plain": [
       "<Figure size 400x300 with 1 Axes>"
      ]
     },
     "metadata": {},
     "output_type": "display_data"
    }
   ],
   "source": [
    "plt.figure(figsize=(4,3))\n",
    "plt.hist([i['alpha'] for i in search.cv_results_['params']])\n",
    "plt.xlabel('alpha')\n",
    "plt.show()"
   ]
  },
  {
   "cell_type": "code",
   "execution_count": 124,
   "metadata": {},
   "outputs": [],
   "source": [
    "alpha = search.best_params_['alpha']"
   ]
  },
  {
   "cell_type": "code",
   "execution_count": 125,
   "metadata": {},
   "outputs": [
    {
     "data": {
      "text/plain": [
       "0.046954761925470656"
      ]
     },
     "execution_count": 125,
     "metadata": {},
     "output_type": "execute_result"
    }
   ],
   "source": [
    "alpha"
   ]
  },
  {
   "cell_type": "code",
   "execution_count": 126,
   "metadata": {},
   "outputs": [],
   "source": [
    "ridge = Ridge(alpha=alpha, random_state=0)\n",
    "ridge.fit(X_train, y_train)\n",
    "y_pred_train = ridge.predict(X_train)\n",
    "y_pred_test = ridge.predict(X_test)"
   ]
  },
  {
   "cell_type": "code",
   "execution_count": 218,
   "metadata": {},
   "outputs": [
    {
     "data": {
      "image/png": "[encoded data removed]",
      "text/plain": [
       "<Figure size 700x300 with 2 Axes>"
      ]
     },
     "metadata": {},
     "output_type": "display_data"
    }
   ],
   "source": [
    "fig, ax = plt.subplots(1, 2, figsize=(7,3), layout='constrained')\n",
    "\n",
    "ax[0].scatter(y_train, y_pred_train, marker='.', s=5)\n",
    "ax[1].scatter(y_test, y_pred_test, marker='.', s=5)\n",
    "\n",
    "ax[0].set_xlabel('true')\n",
    "ax[1].set_xlabel('true')\n",
    "ax[0].set_ylabel('pred')\n",
    "ax[1].set_ylabel('pred')\n",
    "ax[0].set_title('Train')\n",
    "ax[1].set_title('Test')\n",
    "\n",
    "plt.show()"
   ]
  },
  {
   "cell_type": "markdown",
   "metadata": {},
   "source": []
  },
  {
   "cell_type": "code",
   "execution_count": 189,
   "metadata": {},
   "outputs": [],
   "source": [
    "param_space = {\n",
    "    'n_estimators': np.linspace(100, 1000, 19, dtype=int),\n",
    "    'max_depth': np.linspace(10, 100, 10, dtype=int),\n",
    "    'min_samples_leaf': np.concatenate([np.array([1], dtype=int), np.linspace(2, 20, 10, dtype=int)]),\n",
    "    'min_samples_split': np.linspace(2, 20, 10, dtype=int),\n",
    "    'max_features': np.linspace(0.1, 1.0, 10),\n",
    "    'max_leaf_nodes': [10, 50, 100]\n",
    "}\n",
    "rf_regressor = RandomForestRegressor(random_state=0)\n",
    "clf = RandomizedSearchCV(rf_regressor, param_space, n_iter=100, n_jobs=8, cv=skf.split(X_train, y_binned_train), random_state=0)"
   ]
  },
  {
   "cell_type": "code",
   "execution_count": 190,
   "metadata": {},
   "outputs": [
    {
     "name": "stderr",
     "output_type": "stream",
     "text": [
      "/nethome/kgeorge/miniconda3/envs/workspace-esm/lib/python3.10/site-packages/sklearn/model_selection/_split.py:737: UserWarning: The least populated class in y has only 1 members, which is less than n_splits=5.\n",
      "  warnings.warn(\n"
     ]
    }
   ],
   "source": [
    "search = clf.fit(X_train, y_train.flatten())"
   ]
  },
  {
   "cell_type": "code",
   "execution_count": 192,
   "metadata": {},
   "outputs": [
    {
     "data": {
      "text/plain": [
       "{'n_estimators': 700,\n",
       " 'min_samples_split': 6,\n",
       " 'min_samples_leaf': 2,\n",
       " 'max_leaf_nodes': 10,\n",
       " 'max_features': 0.2,\n",
       " 'max_depth': 100}"
      ]
     },
     "execution_count": 192,
     "metadata": {},
     "output_type": "execute_result"
    }
   ],
   "source": [
    "search.best_params_"
   ]
  },
  {
   "cell_type": "code",
   "execution_count": 213,
   "metadata": {},
   "outputs": [],
   "source": [
    "rf_params = {'n_estimators': 700,\n",
    " 'min_samples_split': 6,\n",
    " 'min_samples_leaf': 2,\n",
    " 'max_leaf_nodes': 10,\n",
    " 'max_features': 0.2,\n",
    " 'max_depth': 100}"
   ]
  },
  {
   "cell_type": "code",
   "execution_count": 214,
   "metadata": {},
   "outputs": [],
   "source": [
    "rf_regressor = RandomForestRegressor(random_state=0, **rf_params)\n",
    "rf_regressor_default = RandomForestRegressor(random_state=0)\n",
    "\n",
    "rf_regressor.fit(X_train, y_train.flatten())\n",
    "rf_regressor_default.fit(X_train, y_train.flatten())\n",
    "\n",
    "y_pred_train = rf_regressor.predict(X_train)\n",
    "y_pred_test = rf_regressor.predict(X_test)\n",
    "\n",
    "y_pred_train_default = rf_regressor_default.predict(X_train)\n",
    "y_pred_test_default = rf_regressor_default.predict(X_test)"
   ]
  },
  {
   "cell_type": "code",
   "execution_count": 215,
   "metadata": {},
   "outputs": [
    {
     "data": {
      "text/plain": [
       "Text(0.5, 1.0, 'Test \\n spearmanr corr = 0.72 \\n mse = 1.67')"
      ]
     },
     "execution_count": 215,
     "metadata": {},
     "output_type": "execute_result"
    },
    {
     "data": {
      "image/png": "[encoded data removed]",
      "text/plain": [
       "<Figure size 700x300 with 2 Axes>"
      ]
     },
     "metadata": {},
     "output_type": "display_data"
    },
    {
     "data": {
      "image/png": "[encoded data removed]",
      "text/plain": [
       "<Figure size 700x300 with 2 Axes>"
      ]
     },
     "metadata": {},
     "output_type": "display_data"
    }
   ],
   "source": [
    "fig, ax = plt.subplots(1, 2, figsize=(7,3), layout='constrained')\n",
    "\n",
    "ax[0].scatter(y_train, y_pred_train, marker='.', s=5)\n",
    "ax[0].set_title(f'Train \\n spearmanr corr = {round(spearmanr(y_train.flatten(), y_pred_train).statistic, 2)} \\n mse = {round(mean_squared_error(y_train.flatten(), y_pred_train), 2)}')\n",
    "ax[1].scatter(y_test, y_pred_test, marker='.', s=5)\n",
    "ax[1].set_title(f'Test \\n spearmanr corr = {round(spearmanr(y_test.flatten(), y_pred_test).statistic, 2)} \\n mse = {round(mean_squared_error(y_test.flatten(), y_pred_test), 2)}')\n",
    "\n",
    "fig, ax = plt.subplots(1, 2, figsize=(7,3), layout='constrained')\n",
    "\n",
    "ax[0].scatter(y_train, y_pred_train_default, marker='.', s=5)\n",
    "ax[0].set_title(f'Train \\n spearmanr corr = {round(spearmanr(y_train.flatten(), y_pred_train_default).statistic, 2)} \\n mse = {round(mean_squared_error(y_train.flatten(), y_pred_train_default), 2)}')\n",
    "ax[1].scatter(y_test, y_pred_test_default, marker='.', s=5)\n",
    "ax[1].set_title(f'Test \\n spearmanr corr = {round(spearmanr(y_test.flatten(), y_pred_test_default).statistic, 2)} \\n mse = {round(mean_squared_error(y_test.flatten(), y_pred_test_default), 2)}')"
   ]
  },
  {
   "cell_type": "code",
   "execution_count": null,
   "metadata": {},
   "outputs": [],
   "source": []
  }
 ],
 "metadata": {
  "kernelspec": {
   "display_name": "workspace-esm",
   "language": "python",
   "name": "python3"
  },
  "language_info": {
   "codemirror_mode": {
    "name": "ipython",
    "version": 3
   },
   "file_extension": ".py",
   "mimetype": "text/x-python",
   "name": "python",
   "nbconvert_exporter": "python",
   "pygments_lexer": "ipython3",
   "version": "3.10.13"
  }
 },
 "nbformat": 4,
 "nbformat_minor": 2
}
